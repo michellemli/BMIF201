{
 "cells": [
  {
   "cell_type": "code",
   "execution_count": null,
   "metadata": {},
   "outputs": [],
   "source": [
    "prob_fix = []\n",
    "p_inits = []\n",
    "simulations, times_to_fixation, total_fix, exp_t_emerge, p_0\n",
    "if (len(total_fix) != 0): \n",
    "    prob_fix.append(len(times_to_fixation)/len(total_fix))\n",
    "    p_inits.append(p_0)"
   ]
  },
  {
   "cell_type": "code",
   "execution_count": null,
   "metadata": {},
   "outputs": [],
   "source": [
    "plt.plot(numpy.array(p_inits).T, numpy.array(prob_fix).T, 'o')\n",
    "plt.title(\"Probability of Fixation at $p_0$, $s = 0$, and $\\mu = 0.01$\")\n",
    "\n",
    "plt.xlabel(\"Initial Allelic Frequency\")\n",
    "plt.ylabel(\"Probability of Fixation\")\n",
    "plt.show()"
   ]
  }
 ],
 "metadata": {
  "kernelspec": {
   "display_name": "Python 3",
   "language": "python",
   "name": "python3"
  },
  "language_info": {
   "codemirror_mode": {
    "name": "ipython",
    "version": 3
   },
   "file_extension": ".py",
   "mimetype": "text/x-python",
   "name": "python",
   "nbconvert_exporter": "python",
   "pygments_lexer": "ipython3",
   "version": "3.6.5"
  }
 },
 "nbformat": 4,
 "nbformat_minor": 2
}
